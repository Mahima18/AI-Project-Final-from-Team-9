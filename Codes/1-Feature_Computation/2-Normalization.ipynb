{
 "cells": [
  {
   "cell_type": "code",
   "execution_count": 0,
   "metadata": {
    "colab": {},
    "colab_type": "code",
    "id": "D-JYZbzoUDEJ"
   },
   "outputs": [],
   "source": [
    "import pandas as pd"
   ]
  },
  {
   "cell_type": "code",
   "execution_count": 0,
   "metadata": {
    "colab": {},
    "colab_type": "code",
    "id": "e6OdyjbZUDEO"
   },
   "outputs": [],
   "source": []
  },
  {
   "cell_type": "code",
   "execution_count": 0,
   "metadata": {
    "colab": {},
    "colab_type": "code",
    "id": "z7zbBuexUDER"
   },
   "outputs": [],
   "source": [
    "#Reading the merged data into a dataframe\n",
    "df = pd.read_csv('../../Data/Merged_data.csv')"
   ]
  },
  {
   "cell_type": "code",
   "execution_count": 0,
   "metadata": {
    "colab": {},
    "colab_type": "code",
    "id": "Lb7gkzxdUDEU"
   },
   "outputs": [],
   "source": [
    "#Separating the rows which are \"Alert\" only\n",
    "df_alert = df[df[\"Y\"]==0] "
   ]
  },
  {
   "cell_type": "code",
   "execution_count": 0,
   "metadata": {
    "colab": {},
    "colab_type": "code",
    "id": "qwuFl9EZUDEX"
   },
   "outputs": [],
   "source": [
    "#Creating separate dataframes for each respondent's first, second and third \"Alert\" frame\n",
    "df_alert_1 = df_alert.iloc[0::240, :]\n",
    "df_alert_2 = df_alert.iloc[1::240, :]\n",
    "df_alert_3 = df_alert.iloc[2::240, :]"
   ]
  },
  {
   "cell_type": "code",
   "execution_count": 0,
   "metadata": {
    "colab": {},
    "colab_type": "code",
    "id": "Ikv_4bF-UDEa"
   },
   "outputs": [],
   "source": [
    "#Merging them into one dataframe\n",
    "alert_first3 = [df_alert_1,df_alert_2,df_alert_3]\n",
    "df_alert_first3 = pd.concat(alert_first3)\n",
    "df_alert_first3 = df_alert_first3.sort_index()"
   ]
  },
  {
   "cell_type": "code",
   "execution_count": 0,
   "metadata": {
    "colab": {},
    "colab_type": "code",
    "id": "0NPrHH8wUDEb"
   },
   "outputs": [],
   "source": [
    "#Based on the first 3 \"Alert\" frames, calculating respondent-wise mean and std for each feature\n",
    "df_means = df_alert_first3.groupby(\"Respondent\")[\"EAR\",\"MAR\",\"Circularity\",\"MOE\"].mean()\n",
    "df_std = df_alert_first3.groupby(\"Respondent\")[\"EAR\",\"MAR\",\"Circularity\",\"MOE\"].std()"
   ]
  },
  {
   "cell_type": "code",
   "execution_count": 0,
   "metadata": {
    "colab": {},
    "colab_type": "code",
    "id": "SLtDq7E9UDEe"
   },
   "outputs": [],
   "source": [
    "#Functions for mean and std for each feature\n",
    "def mean_EAR(respondent):\n",
    "    return df_means.loc[respondent][\"EAR\"]\n",
    "\n",
    "def mean_MAR(respondent):\n",
    "    return df_means.loc[respondent][\"MAR\"]\n",
    "\n",
    "def mean_Circularity(respondent):\n",
    "    return df_means.loc[respondent][\"Circularity\"]\n",
    "\n",
    "def mean_MOE(respondent):\n",
    "    return df_means.loc[respondent][\"MOE\"]\n",
    "\n",
    "\n",
    "def std_EAR(respondent):\n",
    "    return df_std.loc[respondent][\"EAR\"]\n",
    "\n",
    "def std_MAR(respondent):\n",
    "    return df_std.loc[respondent][\"MAR\"]\n",
    "\n",
    "def std_Circularity(respondent):\n",
    "    return df_std.loc[respondent][\"Circularity\"]\n",
    "\n",
    "def std_MOE(respondent):\n",
    "    return df_std.loc[respondent][\"MOE\"]"
   ]
  },
  {
   "cell_type": "code",
   "execution_count": 0,
   "metadata": {
    "colab": {},
    "colab_type": "code",
    "id": "LWHFa1QaUDEg"
   },
   "outputs": [],
   "source": [
    "#Adding respondent-wise mean and std for each feature to each row in the original dataframe\n",
    "df[\"EAR_mean\"] = df[\"Respondent\"].apply(mean_EAR)\n",
    "df[\"MAR_mean\"] = df[\"Respondent\"].apply(mean_MAR)\n",
    "df[\"Circularity_mean\"] = df[\"Respondent\"].apply(mean_Circularity)\n",
    "df[\"MOE_mean\"] = df[\"Respondent\"].apply(mean_MOE)\n",
    "\n",
    "df[\"EAR_std\"] = df[\"Respondent\"].apply(std_EAR)\n",
    "df[\"MAR_std\"] = df[\"Respondent\"].apply(std_MAR)\n",
    "df[\"Circularity_std\"] = df[\"Respondent\"].apply(std_Circularity)\n",
    "df[\"MOE_std\"] = df[\"Respondent\"].apply(std_MOE)"
   ]
  },
  {
   "cell_type": "code",
   "execution_count": 0,
   "metadata": {
    "colab": {},
    "colab_type": "code",
    "id": "tF3tz7GJUDEi"
   },
   "outputs": [],
   "source": [
    "#Calculating normalised features for each row in the original dataframe\n",
    "df[\"EAR_N\"] = (df[\"EAR\"]-df[\"EAR_mean\"])/ df[\"EAR_std\"]\n",
    "df[\"MAR_N\"] = (df[\"MAR\"]-df[\"MAR_mean\"])/ df[\"MAR_std\"]\n",
    "df[\"Circularity_N\"] = (df[\"Circularity\"]-df[\"Circularity_mean\"])/ df[\"Circularity_std\"]\n",
    "df[\"MOE_N\"] = (df[\"MOE\"]-df[\"MOE_mean\"])/ df[\"MOE_std\"]\n"
   ]
  },
  {
   "cell_type": "code",
   "execution_count": 0,
   "metadata": {
    "colab": {},
    "colab_type": "code",
    "id": "Fp9idPATUDEl"
   },
   "outputs": [],
   "source": [
    "#Saving the file to a CSV with all the information\n",
    "df.to_csv('total_with_all_information.csv',index=False)"
   ]
  },
  {
   "cell_type": "code",
   "execution_count": 0,
   "metadata": {
    "colab": {},
    "colab_type": "code",
    "id": "KmZHY_EJUDEn"
   },
   "outputs": [],
   "source": [
    "#Saving the file to a CSV with all the features ,dropping the unnecessary ones\n",
    "df_main = df.drop([\"EAR_mean\",\"MAR_mean\",\"Circularity_mean\",\"MOE_mean\",\"EAR_std\",\"MAR_std\",\"Circularity_std\",\"MOE_std\"],axis=1)\n",
    "df_main.to_csv('final_with_main_features.csv',index=False)"
   ]
  }
 ],
 "metadata": {
  "colab": {
   "name": "Normalization.ipynb",
   "provenance": []
  },
  "kernelspec": {
   "display_name": "Python 3",
   "language": "python",
   "name": "python3"
  },
  "language_info": {
   "codemirror_mode": {
    "name": "ipython",
    "version": 3
   },
   "file_extension": ".py",
   "mimetype": "text/x-python",
   "name": "python",
   "nbconvert_exporter": "python",
   "pygments_lexer": "ipython3",
   "version": "3.7.4"
  }
 },
 "nbformat": 4,
 "nbformat_minor": 1
}
